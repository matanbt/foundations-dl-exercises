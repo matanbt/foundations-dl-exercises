{
 "cells": [
  {
   "cell_type": "code",
   "execution_count": 2,
   "metadata": {
    "collapsed": true
   },
   "outputs": [
    {
     "name": "stdout",
     "output_type": "stream",
     "text": [
      "Files already downloaded and verified\n",
      "Files already downloaded and verified\n"
     ]
    }
   ],
   "source": [
    "from dataset import trainset_x, trainset_y, testset_x, testset_y\n",
    "from sklearn.svm import SVC"
   ]
  },
  {
   "cell_type": "code",
   "execution_count": 20,
   "outputs": [],
   "source": [
    "def train_and_test_clf(svm_clf: SVC):\n",
    "    print(f\">> Training {svm_clf}\")\n",
    "    svm_clf.fit(trainset_x, trainset_y)\n",
    "    print(f\">> Evaluating {svm_clf}\")\n",
    "    trainset_pred_y = svm_clf.predict(trainset_x)\n",
    "    train_accuracy = (trainset_y == trainset_pred_y).mean()\n",
    "    print(f\">> Train Accuracy: {train_accuracy * 100 :3f}%\")\n",
    "    testset_pred_y = svm_clf.predict(testset_x)\n",
    "    test_accuracy = (testset_y == testset_pred_y).mean()\n",
    "    print(f\">> Test Accuracy: {test_accuracy * 100 :3f}%\")\n",
    "    return svm_clf"
   ],
   "metadata": {
    "collapsed": false
   }
  },
  {
   "cell_type": "code",
   "execution_count": 22,
   "outputs": [
    {
     "name": "stdout",
     "output_type": "stream",
     "text": [
      "---------------\n",
      "Training & Testing: SVM(kernel=linear)\n",
      ">> Training SVC(kernel='linear')\n",
      ">> Evaluating SVC(kernel='linear')\n",
      ">> Train Accuracy: 98.940000%\n",
      ">> Test Accuracy: 33.100000%\n",
      "---------------\n",
      "Training & Testing: SVM(kernel=rbf)\n",
      ">> Training SVC()\n",
      ">> Evaluating SVC()\n",
      ">> Train Accuracy: 72.300000%\n",
      ">> Test Accuracy: 44.900000%\n"
     ]
    }
   ],
   "source": [
    "kernels = ['linear', 'rbf']\n",
    "\n",
    "for kernel in kernels:\n",
    "    print(\"-\" * 15)\n",
    "    print(f\"Training & Testing: SVM(kernel={kernel})\")\n",
    "    train_and_test_clf(SVC(kernel=kernel))"
   ],
   "metadata": {
    "collapsed": false
   }
  }
 ],
 "metadata": {
  "kernelspec": {
   "display_name": "Python 3",
   "language": "python",
   "name": "python3"
  },
  "language_info": {
   "codemirror_mode": {
    "name": "ipython",
    "version": 2
   },
   "file_extension": ".py",
   "mimetype": "text/x-python",
   "name": "python",
   "nbconvert_exporter": "python",
   "pygments_lexer": "ipython2",
   "version": "2.7.6"
  }
 },
 "nbformat": 4,
 "nbformat_minor": 0
}
